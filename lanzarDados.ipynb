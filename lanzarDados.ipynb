{
 "metadata": {
  "language_info": {
   "codemirror_mode": {
    "name": "ipython",
    "version": 3
   },
   "file_extension": ".py",
   "mimetype": "text/x-python",
   "name": "python",
   "nbconvert_exporter": "python",
   "pygments_lexer": "ipython3",
   "version": "3.8.3-final"
  },
  "orig_nbformat": 2,
  "kernelspec": {
   "name": "python3",
   "display_name": "Python 3"
  }
 },
 "nbformat": 4,
 "nbformat_minor": 2,
 "cells": [
  {
   "cell_type": "code",
   "execution_count": 1,
   "metadata": {},
   "outputs": [
    {
     "output_type": "stream",
     "name": "stdout",
     "text": [
      "El primer dado es:  3\n",
      "El segundo dado es:  5\n",
      "La suma de los dado es  8\n",
      "\n",
      "\n",
      "El primer dado es:  1\n",
      "El segundo dado es:  5\n",
      "La suma de los dado es  6\n",
      "\n",
      "\n",
      "El primer dado es:  4\n",
      "El segundo dado es:  4\n",
      "La suma de los dado es  8\n",
      "\n",
      "\n",
      "\n",
      "fin del juego\n"
     ]
    }
   ],
   "source": [
    "import random\n",
    "\n",
    "\n",
    "def lanzar_dado():\n",
    "    \"\"\" Función que lanza dos dados y suma sus valores\"\"\"\n",
    "    dado1 = random.randint(1, 6)\n",
    "    dado2 = random.randint(1, 6)\n",
    "    suma = dado1 + dado2\n",
    "    print(\"El primer dado es: \", dado1)\n",
    "    print('El segundo dado es: ', dado2)\n",
    "    print(\"La suma de los dado es \", suma)\n",
    "    return \"\\n\"\n",
    "\n",
    "\n",
    "print(lanzar_dado())\n",
    "otroJuego = input(\"Desea continuar lanzando? si/no\")\n",
    "otroJuego = str(otroJuego.lower())\n",
    "while otroJuego == (\"si\"):\n",
    "    print(lanzar_dado())\n",
    "    otroJuego = input(\"Desea continuar? \")\n",
    "    otroJuego = str(otroJuego.lower())\n",
    "print(\"\\nfin del juego\")"
   ]
  },
  {
   "cell_type": "code",
   "execution_count": null,
   "metadata": {},
   "outputs": [],
   "source": []
  }
 ]
}